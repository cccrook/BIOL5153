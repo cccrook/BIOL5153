{
 "cells": [
  {
   "cell_type": "code",
   "execution_count": 2,
   "metadata": {},
   "outputs": [],
   "source": [
    "#chapter 7: regular expressions\n",
    "\n",
    "#many techniques involve searching for fixed patterns but sometimes we want more flexibility\n",
    "#for this we use regular expressions\n",
    "\n",
    "#modules in python\n",
    "#module = collection of specialized tools\n",
    "#modules are not automatically available they must be loaded\n",
    "#use import statement follwed by module name to load a module at the top of the program\n",
    "\n",
    "#module that deals with regular expressions is re\n",
    "\n",
    "#load the re module\n",
    "import re\n",
    "\n",
    "#when you want to use tools from the module you must prefix it with the module name\n",
    "#re.search(pattern, string)\n",
    "\n",
    "#if you forget to load the module or prefix the function with the module name you will get a name error\n",
    "\n",
    "#raw strings\n"
   ]
  },
  {
   "cell_type": "code",
   "execution_count": 3,
   "metadata": {},
   "outputs": [
    {
     "name": "stdout",
     "output_type": "stream",
     "text": [
      "\\t\\n\n",
      "l\tll\n",
      "lll\n"
     ]
    }
   ],
   "source": [
    "#raw strings\n",
    "\n",
    "#put the letter r before quotation marks to tell python that any special characters inside the quotations\n",
    "#are to be ignored-the r stands for raw which is python speak for a string where special characers are ignored\n",
    "\n",
    "#example\n",
    "print(r'\\t\\n')\n",
    "#vs\n",
    "print('l\\tll\\nlll')"
   ]
  },
  {
   "cell_type": "code",
   "execution_count": 4,
   "metadata": {},
   "outputs": [
    {
     "name": "stdout",
     "output_type": "stream",
     "text": [
      "restriction site found\n"
     ]
    }
   ],
   "source": [
    "#searching for a pattern in a string\n",
    "\n",
    "#re.search is a true/false function that determines whether or a not a pattern appears somewhere in a string\n",
    "#re.search takes two arguments(both strings)\n",
    "    #1st-pattern you want to search for\n",
    "    #2nd-the string you want to search in\n",
    "    \n",
    "#check if a dna sequence contains an EcoRI restriction site\n",
    "dna = 'ATCGCGAATTCAC'\n",
    "if re.search(r'GAATTC', dna):\n",
    "    print('restriction site found')"
   ]
  },
  {
   "cell_type": "code",
   "execution_count": 5,
   "metadata": {},
   "outputs": [],
   "source": [
    "#alternation\n",
    "\n",
    "#find AvaII motif which cuts at two different motifs\n",
    "#using complex conditioning with an or statement\n",
    "if re.search(r'GGACC', dna) or re.search(r'GGTCC', dna):\n",
    "    print('restriction site found')\n",
    "#using a singular regular expression\n",
    "if re.search(r'GG(A|T)CC', dna):\n",
    "    print('restriction site found')"
   ]
  },
  {
   "cell_type": "code",
   "execution_count": 6,
   "metadata": {},
   "outputs": [],
   "source": [
    "#character groups\n",
    "\n",
    "#for wider variaton\n",
    "if re.search(r'GC(A|T|G|C)GC', dna):\n",
    "    print('restriction site found')\n",
    "    \n",
    "#better way\n",
    "#a pair of brackets with the list of characters inside them tells python to take any of the characters at that spot\n",
    "#these characters within brackets are referred to as character groups\n",
    "\n",
    "#example\n",
    "if re.search(r'GC[ATGC]GC', dna):\n",
    "    print('restriction site found')\n",
    "    \n",
    "#in situations where you want it to match any character in the position use a period\n",
    "#example\n",
    "if re.search(r'GC.GC', dna):\n",
    "    print('restriction site found')\n",
    "    \n",
    "#instead of listing all the characters you want it to match, you can tell it all the characters you DON'T want it to\n",
    "#do this by using square brackets with a ^ followed by the characters you don't want matched\n",
    "#example\n",
    "if re.search(r'GC[^XYZ]GC', dna):\n",
    "    print('restriction site found')    "
   ]
  },
  {
   "cell_type": "code",
   "execution_count": 7,
   "metadata": {},
   "outputs": [],
   "source": [
    "#Quantifiers\n",
    "\n",
    "#quantifiers describe variation in the number of times a section of a pattern is repeated\n",
    "\n",
    "#a question mark following a character denotes that the character is optional (can match 0 or 1 times)\n",
    "\n",
    "#example\n",
    "if re.search(r'GAT?C', dna):\n",
    "    print('pattern found')\n",
    "    #in this the T is optional and the program will match either GATC or GAC\n",
    "    \n",
    "#if you want the question mark to apply to more than one character in a row you can group the characters in ().\n",
    "\n",
    "#a plus sign following a character denotes that the character must be present but can be so any number of times\n",
    "if re.search(r'GA+TC', dna):\n",
    "    print('found')\n",
    "    #this will match GATC, GAATC, GAAATC, GAAAATC, etc but NEVER GTC\n",
    "    \n",
    "#an asterisk following a character means the character is optional and can be repeated (will match 0 or more)\n",
    "\n",
    "#to specify a number of repeats use curly brackets\n",
    "\n",
    "#curly brackets with a pair of numbers separated by comma specifies a range of acceptable repeats"
   ]
  },
  {
   "cell_type": "code",
   "execution_count": 8,
   "metadata": {},
   "outputs": [
    {
     "name": "stdout",
     "output_type": "stream",
     "text": [
      "GACGTAC\n"
     ]
    }
   ],
   "source": [
    "#Positions\n",
    "#don't represent characters but positions in an input string\n",
    "#^ matches the start of a string\n",
    "#$ matches the end of a string\n",
    "#^AAA will match AAATGCGT but NOT CGTCTGAAATCTTA\n",
    "#$GGG will match CTACGATTTGGG but NOT GGGATATCTA\n",
    "\n",
    "#combining\n",
    "#any of these tools can be combined\n",
    "#example\n",
    "#^ATG[ATGC]{30,1000}A{5,10}$ will recognize any full length mRNA\n",
    "\n",
    "#re.match similar to re.search except re.match will only match if the pattern matches the entire string\n",
    "#whereas re.search will match if the pattern can be found anywhere in the string\n",
    "\n",
    "#extracting part of the string that matched\n",
    "#store the result of re.search then use the group method on the resulting object\n",
    "#re.search returns a value called a match object(represents the results of re.search)-can use methods to get data out\n",
    "\n",
    "#if you use the group method on the match object you get the portion of the input string that matched the pattern\n",
    "\n",
    "#store/group match object\n",
    "dna = 'ATGACGTACGTACGACTG'\n",
    "m = re.search(r'GA[ATGC]{3}AC', dna)\n",
    "print(m.group())"
   ]
  },
  {
   "cell_type": "code",
   "execution_count": 5,
   "metadata": {},
   "outputs": [
    {
     "name": "stdout",
     "output_type": "stream",
     "text": [
      "entire match: GACGTACGTAC\n",
      "first bit: CGT\n",
      "second bit: GT\n"
     ]
    }
   ],
   "source": [
    "#extract more than one piece of a pattern\n",
    "\n",
    "#capturing-put parentheses around the bits you want to extract\n",
    "#refer to the bits by number\n",
    "#use group method to return the bits you want\n",
    "import re\n",
    "\n",
    "dna = 'ATGACGTACGTACGACTG'\n",
    "m = re.search(r'GA([ATGC]{3})AC([ATGC]{2})AC', dna)\n",
    "print('entire match: ' + m.group())\n",
    "print('first bit: ' + m.group(1))\n",
    "print('second bit: ' + m.group(2))"
   ]
  },
  {
   "cell_type": "code",
   "execution_count": 6,
   "metadata": {},
   "outputs": [
    {
     "name": "stdout",
     "output_type": "stream",
     "text": [
      "start: 2\n",
      "end: 13\n"
     ]
    }
   ],
   "source": [
    "#getting the position of a match\n",
    "#match objects  hold information about positions as well\n",
    "#start and end methods get you the information about start and end of match(python starts counting at 0)\n",
    "\n",
    "m = re.search(r'GA([ATGC]{3})AC([ATGC]{2})AC', dna)\n",
    "print('start: ' + str(m.start()))\n",
    "print('end: ' + str(m.end()))\n",
    "\n"
   ]
  },
  {
   "cell_type": "code",
   "execution_count": 7,
   "metadata": {},
   "outputs": [
    {
     "name": "stdout",
     "output_type": "stream",
     "text": [
      "group 1 start: 4\n",
      "group 1 end: 7\n",
      "group 2 start: 9\n",
      "group 2 end: 11\n"
     ]
    }
   ],
   "source": [
    "#can get start and stop of groups as well by giving group number to start and end methods\n",
    "print('group 1 start: ' + str(m.start(1)))\n",
    "print('group 1 end: ' + str(m.end(1)))\n",
    "print('group 2 start: ' + str(m.start(2)))\n",
    "print('group 2 end: ' + str(m.end(2)))"
   ]
  },
  {
   "cell_type": "code",
   "execution_count": 8,
   "metadata": {},
   "outputs": [
    {
     "name": "stdout",
     "output_type": "stream",
     "text": [
      "['ACT', 'GCAT', 'GCTACGT', 'ACGAT', 'CGA', 'TCG']\n"
     ]
    }
   ],
   "source": [
    "#splitting a string using a regular expression as delimiter\n",
    "\n",
    "#re module has a split function that takes regular expressions\n",
    "    #arguments\n",
    "        #regular expression to be used as delimiter\n",
    "        #string to be split\n",
    "        \n",
    "#split dna with ambiguity codes at the positions of ambiguity\n",
    "dna = 'ACTNGCATRGCTACGTYACGATSCGAWTCG'\n",
    "runs = re.split(r'[^ATGC]', dna)\n",
    "print(runs)"
   ]
  },
  {
   "cell_type": "code",
   "execution_count": 9,
   "metadata": {},
   "outputs": [
    {
     "name": "stdout",
     "output_type": "stream",
     "text": [
      "['ATTATAT', 'AAATTATA']\n"
     ]
    }
   ],
   "source": [
    "#finding multiple matches\n",
    "\n",
    "#re.findall returns a list of all matches of a pattern in a string\n",
    "    #not a match object, but a list, holds no positional info\n",
    "    #arguments\n",
    "        #pattern\n",
    "        #string\n",
    "        \n",
    "#find all runs of A and T in a dna sequence\n",
    "dna = 'ACTGCATTATATCGTACGAAATTATACGCGCG'\n",
    "runs = re.findall(r'[AT]{4,100}', dna)\n",
    "print(runs)\n",
    "    \n"
   ]
  },
  {
   "cell_type": "code",
   "execution_count": 15,
   "metadata": {},
   "outputs": [
    {
     "name": "stdout",
     "output_type": "stream",
     "text": [
      "AT rich region from 5 to 12\n",
      "AT rich region from 18 to 26\n"
     ]
    }
   ],
   "source": [
    "#re.finditer returns a sequence of match objects\n",
    "    #to do anything useful must use return value in a loop\n",
    "    \n",
    "#example:\n",
    "dna = 'ACTGCATTATATCGTACGAAATTATACGCGCG'\n",
    "runs = re.finditer(r'[AT]{3,100}', dna)\n",
    "for match in runs:\n",
    "    run_start = match.start()\n",
    "    run_end = match.end()\n",
    "    print('AT rich region from ' + str(run_start) + ' to ' + str(run_end))"
   ]
  },
  {
   "cell_type": "code",
   "execution_count": null,
   "metadata": {},
   "outputs": [],
   "source": []
  }
 ],
 "metadata": {
  "kernelspec": {
   "display_name": "Python 3",
   "language": "python",
   "name": "python3"
  },
  "language_info": {
   "codemirror_mode": {
    "name": "ipython",
    "version": 3
   },
   "file_extension": ".py",
   "mimetype": "text/x-python",
   "name": "python",
   "nbconvert_exporter": "python",
   "pygments_lexer": "ipython3",
   "version": "3.7.2"
  }
 },
 "nbformat": 4,
 "nbformat_minor": 2
}

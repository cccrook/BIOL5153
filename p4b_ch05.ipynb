{
 "cells": [
  {
   "cell_type": "code",
   "execution_count": 14,
   "metadata": {},
   "outputs": [
    {
     "name": "stdout",
     "output_type": "stream",
     "text": [
      "0.46\n"
     ]
    }
   ],
   "source": [
    "#P4B Chapter 5: Writing Our Own Functions\n",
    "\n",
    "#allows you to reuse the same block of code over and over without typing it anew each time\n",
    "#if you need to make a change to the code you only have to do it in one place\n",
    "\n",
    "#Defining a function\n",
    "#Need to figure out the number and type of function arguments\n",
    "#Need to figure out the type of the return value\n",
    "\n",
    "#create get_at_content function\n",
    "#function will take a single argument which will be a string\\\n",
    "#function will return a value type number\n",
    "\n",
    "\n",
    "    #def get_at_content(dna, sig_figs):\n",
    "        #length = len(dna)\n",
    "        #a_count = dna.upper().count('A')\n",
    "        #t_count = dna.upper().count('T')\n",
    "        #at_content = (a_count + t_count) / length\n",
    "        #return round(at_content, sig_figs)\n",
    "    \n",
    "    \n",
    "#first line starts with def short for \"define\" creating a function = defining a function\n",
    "#following def you write the name of the function followed by argument variables in ()\n",
    "#first line ends with a colon\n",
    "#next lines will be indented (referred to as function body)\n",
    "#function body can have as many lines of code as you want as long as they have the same indent\n",
    "#last line of function tells what to return from the function\n",
    "#tell function what to return by simply typing return and the value to be output\n",
    "\n",
    "#This code as currently written will do nothing bc we have only defined a function not run it\n",
    "#python will not run the defined function unless told to do so\n",
    "\n",
    "#call the function (tell python to do the thing)\n",
    "get_at_content('ACGTAGAATTATCGCGCGCATTTACGAGT', 2)\n",
    "#function as is will provide no output AT content goes away once calculated\n",
    "#to use the at_content you must store it as a variable\n",
    "\n",
    "#store at_content as variable and print to screen\n",
    "at_content = get_at_content('ATATGCGCGCAGTAGCATCGATCG', 2)\n",
    "print(at_content)\n"
   ]
  },
  {
   "cell_type": "code",
   "execution_count": 9,
   "metadata": {},
   "outputs": [
    {
     "name": "stdout",
     "output_type": "stream",
     "text": [
      "0.54\n",
      "0.54\n",
      "0.54\n"
     ]
    }
   ],
   "source": [
    "#the variable 'dna' holds no value when the function is being defined\n",
    "#the variable 'dna' will hold whatever value is given as the argument when the function is called\n",
    "#any variables created as part of the function will only exist inside the function\n",
    "#variables inside the function cannot be accessed outside the function (will yield error)\n",
    "\n",
    "#Calling and improving function\n",
    "\n",
    "#write program that uses function\n",
    "my_at_content = get_at_content('AGCTATATCGCAGCTACTAGCTACTAGC')\n",
    "print(str(my_at_content))\n",
    "print(get_at_content('AGCTATATCGCAGCTACTAGCTACTAGC'))\n",
    "print(get_at_content('agctatatcgcagctactagctactagc'))\n"
   ]
  },
  {
   "cell_type": "code",
   "execution_count": 5,
   "metadata": {},
   "outputs": [],
   "source": [
    "#python has a rounding function that will allow you to limit length of the numbers from function\n",
    "#round function takes 2 arguments: num you want to round and num of sig figs\n",
    "\n",
    "#edit defined function above to include the round function"
   ]
  },
  {
   "cell_type": "code",
   "execution_count": 10,
   "metadata": {},
   "outputs": [
    {
     "name": "stdout",
     "output_type": "stream",
     "text": [
      "0.46\n"
     ]
    }
   ],
   "source": [
    "my_at_content = get_at_content('ATGCTACGTAGCGCGTA')\n",
    "print(at_content)\n"
   ]
  },
  {
   "cell_type": "code",
   "execution_count": 15,
   "metadata": {},
   "outputs": [
    {
     "name": "stdout",
     "output_type": "stream",
     "text": [
      "0.4\n",
      "0.41\n",
      "0.409\n"
     ]
    }
   ],
   "source": [
    "#you can add a second argument to the function\n",
    "#add additonal argument to the argument variable list on 1st line of function definition\n",
    "#use new argument variable in the call to 'round'\n",
    "\n",
    "#see above\n",
    "\n",
    "#call function again to check\n",
    "test_dna = 'GCTATTCGGACGTCGACGATCG'\n",
    "print(get_at_content(test_dna, 1))\n",
    "print(get_at_content(test_dna, 2))\n",
    "print(get_at_content(test_dna, 3))"
   ]
  },
  {
   "cell_type": "code",
   "execution_count": 17,
   "metadata": {},
   "outputs": [
    {
     "name": "stdout",
     "output_type": "stream",
     "text": [
      "0.46\n",
      "0.4375\n"
     ]
    }
   ],
   "source": [
    "#Encapsulation with functions\n",
    "\n",
    "#encapsulation = dividing programs up into little bits that can be worked on independently\n",
    "\n",
    "#functions don't always have to take an argument\n",
    "\n",
    "#function with no arguments\n",
    "def get_a_number():\n",
    "    return 42\n",
    "#not useful\n",
    "\n",
    "#version of get_at_content that has no arguments\n",
    "#def get_at_content():\n",
    "    #length = len(dna)\n",
    "    #a_count = dna.upper().count('A')\n",
    "    #t_count = dna.upper().count('T')\n",
    "    #at_content = (a_count + t_count) / length\n",
    "    #return round(at_content, 2)\n",
    "\n",
    "#dna = 'AGTAAGGCGCTTATTCGAT'\n",
    "#print(get_at_content())\n",
    "#above code will do what you want but breaks encapsulation\n",
    "#above code would require a new dna sequence to be specified prior to using the defined function every time\n",
    "\n",
    "#prevent this by identifying variables outside the function that will be used in the function and \n",
    "#turn them into arguements\n",
    "\n",
    "#Functions don't always have to return a value\n",
    "\n",
    "#function that prints at_content instead of returning it\n",
    "#def print_at_content(dna):\n",
    "    #length = len(dna)\n",
    "    #a_count = dna.upper().count('A')\n",
    "    #t_count = dna.upper().count('T')\n",
    "    #at_content = (a_count + t_count) / length\n",
    "    #print(str(round(at_content, 2)))\n",
    "    \n",
    "#above code isn't very useful bc you may not always want to print it\n",
    "#above code performs 2 functions: calc at_content and print it\n",
    "#write functions that only do 1 thing\n",
    "#functions that do more than one thing are not very flexible\n",
    "\n",
    "#Functions can be called with named arguments\n",
    "\n",
    "#to use a defined function you need to know what the return value and type is\n",
    "#also need to know the number and type of arguments\n",
    "#in many cases you also need to know the order of the arguments\n",
    "\n",
    "#keyword arguments = feature in python that allows you to call functions with a list of argument variable names\n",
    "#and values joined by equal signs\n",
    "\n",
    "#previously described way of calling functions\n",
    "get_at_content('CGGCGCTACATGCATCGT', 2)\n",
    "\n",
    "#calling a function using keyword arguments\n",
    "get_at_content(dna='GTCGACTTAGCTTGC', sig_figs=2)\n",
    "\n",
    "#using keyword arguments you can put the arguments in any order\n",
    "get_at_content(sig_figs=2, dna='GCATTCATACGCGAGCT')\n",
    "\n",
    "#using keyword arguments also makes your code easier to read\n",
    "\n",
    "#you can mix and match the two calling styles in most ways with one exception\n",
    "#you CANNOT start out using keywords then stop\n",
    "\n",
    "#can do this\n",
    "get_at_content('GCGCTCGATTATCTGCACGACAG', 2)\n",
    "get_at_content(dna='AGCGCGCATCTATCGATCAGC', sig_figs=2)\n",
    "get_at_content('GAGCGTAGCATATTCGATGACTGACGT', sig_figs=2)\n",
    "\n",
    "#don't do this, will cause error\n",
    "#get_at_content(dna='CGAGCGATTCTACGACG', 2)\n",
    "\n",
    "#function arguments can have defaults\n",
    "#specify the default value in the first line of the function definition\n",
    "\n",
    "#get_at_content with default sig_figs set to 2\n",
    "def get_at_content(dna, sig_figs=2):\n",
    "    dna = dna.replace('N', '')\n",
    "    length = len(dna)\n",
    "    a_count = dna.upper().count('A')\n",
    "    t_count = dna.upper().count('T')\n",
    "    at_content = (a_count + t_count) / length\n",
    "    return round(at_content, sig_figs)\n",
    "\n",
    "\n",
    "\n",
    "\n",
    "\n",
    "print(get_at_content('GACTATCGCGGAT'))\n",
    "print(get_at_content('GCTAGTACGTAGCTGC', 4))\n",
    "\n",
    "#only use default values where it makes sense to do so\n",
    "\n",
    "\n"
   ]
  },
  {
   "cell_type": "code",
   "execution_count": 18,
   "metadata": {},
   "outputs": [],
   "source": [
    "#testing functions\n",
    "\n",
    "#always periodically check your code by running on test input with an answer you know to be correct\n",
    "\n",
    "#assert function uses word assert followed by call to function and two equal signs then the result expected\n",
    "\n",
    "#example we know if we run get_at_content on ATCG we should get 0.5\n",
    "assert get_at_content('ATCG', 1) == 0.5\n",
    "\n",
    "#if the assertion is false then the program will stop and give you an assertion error\n",
    "\n",
    "#assertions can test if a function works\n",
    "#if functions works but gives wrong answer error lies in code that called function not function itself (sometimes)\n",
    "\n",
    "\n",
    "#use asssertions to test functions for given weird input\n",
    "\n",
    "#example N is an unknown base\n",
    "\n",
    "#assert get_at_content('ATCGNNNNNNNN') == 0.5\n",
    "#this assertion fails, but you can modify the function to exclude unknown bases\n",
    "\n",
    "#modify function above\n",
    "\n",
    "#group multiple assertions at once\n",
    "assert get_at_content('A') == 1\n",
    "assert get_at_content('G') == 0\n",
    "assert get_at_content('ATGC') == 0.5\n",
    "assert get_at_content('AGG') == 0.33\n",
    "assert get_at_content('AGG', 1) == 0.3\n",
    "assert get_at_content('ATCG') == .5\n",
    "\n",
    "\n",
    "\n",
    "\n",
    "\n",
    "\n"
   ]
  },
  {
   "cell_type": "code",
   "execution_count": null,
   "metadata": {},
   "outputs": [],
   "source": []
  }
 ],
 "metadata": {
  "kernelspec": {
   "display_name": "Python 3",
   "language": "python",
   "name": "python3"
  },
  "language_info": {
   "codemirror_mode": {
    "name": "ipython",
    "version": 3
   },
   "file_extension": ".py",
   "mimetype": "text/x-python",
   "name": "python",
   "nbconvert_exporter": "python",
   "pygments_lexer": "ipython3",
   "version": "3.7.2"
  }
 },
 "nbformat": 4,
 "nbformat_minor": 2
}
